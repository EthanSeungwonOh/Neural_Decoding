{
  "nbformat": 4,
  "nbformat_minor": 0,
  "metadata": {
    "colab": {
      "name": "neural-decoding-ML.ipynb",
      "provenance": [],
      "collapsed_sections": [],
      "authorship_tag": "ABX9TyMkGiVYSfPp0PF52oCncq5w"
    },
    "kernelspec": {
      "name": "python3",
      "display_name": "Python 3"
    },
    "accelerator": "GPU"
  },
  "cells": [
    {
      "cell_type": "markdown",
      "metadata": {
        "id": "7-1e2CLC7o-S",
        "colab_type": "text"
      },
      "source": [
        "# ML Experiment Tips!\n",
        "- If your model is underfitting the training data, adding more training examples will not help. You need to use a more complex model or come up with better features.\n",
        "\n",
        "- One way to improve an overfitting model is to feed it more training data until the validation error reaches the training error.\n",
        "\n",
        "- Bias-Variance Tradeoff: Increasing a model’s complexity will typically increase its variance and reduce its bias. Conversely, reducing a model’s complexity increases its bias and reduces its variance. This is why it is called a trade-off"
      ]
    },
    {
      "cell_type": "code",
      "metadata": {
        "id": "KPsrZtvFe2bg",
        "colab_type": "code",
        "colab": {}
      },
      "source": [
        "!pip install Neural-Decoding"
      ],
      "execution_count": null,
      "outputs": []
    },
    {
      "cell_type": "code",
      "metadata": {
        "id": "BPzPUWix1I_M",
        "colab_type": "code",
        "colab": {
          "base_uri": "https://localhost:8080/",
          "height": 34
        },
        "outputId": "cfb9387b-8d0f-4f16-fc4a-024431dc6ce1"
      },
      "source": [
        "from google.colab import drive\n",
        "drive.mount('/content/drive')\n",
        "\n",
        "import numpy as np\n",
        "import os\n",
        "from numpy import loadtxt\n",
        "\n",
        "# Binary Classification with Sonar Dataset: Baseline\n",
        "import tensorflow as tf\n",
        "from tensorflow import keras\n",
        "from tensorflow.keras import layers\n",
        "\n",
        "from sklearn.model_selection import train_test_split\n",
        "from sklearn.utils import shuffle\n",
        "from sklearn.metrics import accuracy_score\n",
        "from sklearn.preprocessing import StandardScaler\n",
        "from sklearn.pipeline import Pipeline\n",
        "from sklearn.svm import LinearSVC\n",
        "from sklearn.ensemble import RandomForestClassifier\n",
        "from sklearn.preprocessing import PolynomialFeatures\n",
        "from sklearn.decomposition import PCA"
      ],
      "execution_count": null,
      "outputs": [
        {
          "output_type": "stream",
          "text": [
            "Drive already mounted at /content/drive; to attempt to forcibly remount, call drive.mount(\"/content/drive\", force_remount=True).\n"
          ],
          "name": "stdout"
        }
      ]
    },
    {
      "cell_type": "code",
      "metadata": {
        "id": "_PK-WBnauY07",
        "colab_type": "code",
        "colab": {
          "base_uri": "https://localhost:8080/",
          "height": 34
        },
        "outputId": "ace8bdd5-d984-40b5-9e28-9b08731f6055"
      },
      "source": [
        "# load the dataset\n",
        "path = '/content/drive/My Drive/data/data_lda_20170828/1004'\n",
        "\n",
        "data_list = [(3,1),(3,2),(4,1),(4,2),(4,3),(5,3)] \n",
        "data_list2 = [(1,4),(1,5),(1,6),(2,1),(2,2),(2,6),(3,1),(3,2),(4,1),(4,2),(4,3),(5,2),(5,3)] \n",
        "k = len(data_list2)\n",
        "\n",
        "# list of dictionary : a form of day and inj\n",
        "cellMouse = path.split('/')[-1]\n",
        "\n",
        "# dirs = glob.glob(os.path.join(path, '1*'))\n",
        "X_list = []\n",
        "Y_list = []\n",
        "\n",
        "# for each video folder\n",
        "for day, inj in data_list2:\n",
        "  datasetName = os.path.join(path, 'TRACES_'+ cellMouse +'_'+ str(day) +'_' + str(inj) +'.csv')\n",
        "  labelName = os.path.join(path, 'BEHAVIOR_'+ cellMouse +'_'+ str(day) +'_' +str(inj)+'.csv')\n",
        "\n",
        "  dataset = np.transpose(loadtxt(datasetName, delimiter=','))\n",
        "  label = loadtxt(labelName, delimiter=',')[:,2]\n",
        "\n",
        "  X_list.append(dataset)\n",
        "  Y_list.append(label)\n",
        "\n",
        "X = np.vstack(X_list)\n",
        "y = np.vstack(Y_list)\n",
        "y = y.reshape(-1)\n",
        "\n",
        "scaler = StandardScaler() # expected dim=2\n",
        "X = scaler.fit_transform(X) # normalize/standardize features\n",
        "\n",
        "print(X.shape, y.shape)"
      ],
      "execution_count": null,
      "outputs": [
        {
          "output_type": "stream",
          "text": [
            "(39000, 273) (39000,)\n"
          ],
          "name": "stdout"
        }
      ]
    },
    {
      "cell_type": "markdown",
      "metadata": {
        "id": "mZtNzq9fGmZv",
        "colab_type": "text"
      },
      "source": [
        "## Feature Preprecessing"
      ]
    },
    {
      "cell_type": "code",
      "metadata": {
        "id": "Yc_yKHpNL3G7",
        "colab_type": "code",
        "colab": {
          "base_uri": "https://localhost:8080/",
          "height": 34
        },
        "outputId": "eb77e086-0503-49f3-b7e3-d479c43c6e23"
      },
      "source": [
        ""
      ],
      "execution_count": null,
      "outputs": [
        {
          "output_type": "stream",
          "text": [
            "(39000, 273)\n"
          ],
          "name": "stdout"
        }
      ]
    },
    {
      "cell_type": "markdown",
      "metadata": {
        "id": "kCxiVkZELNQ0",
        "colab_type": "text"
      },
      "source": [
        "## Non-Recurrent Decoders"
      ]
    },
    {
      "cell_type": "code",
      "metadata": {
        "id": "BQZby7Bb_uAU",
        "colab_type": "code",
        "colab": {
          "base_uri": "https://localhost:8080/",
          "height": 34
        },
        "outputId": "9c0c880e-a8d0-46e1-9719-c8f5c1ebae36"
      },
      "source": [
        "# X: (3000*# of videos, num_features) -> select bin_len -> (3000*# of videos/bin_len, bin_len, num_features) \n",
        "# -> select B_num -> (3000*# of videos/(bin_len*bin_num), bin_len * bin_num * num_features) \n",
        "\n",
        "# y: (3000*# of videos, 1) -> (3000*# of videos/(bin_len*bin_num), 600) -> leave the last output in aggregated B bins -> (3000*# of videos/(bin_len*bin_num), 1)\n",
        "\n",
        "bin_len = 10 # = temporal resolution R \n",
        "bin_num = 1 # number of bins for a prediction B\n",
        "num_features = 273 # number of features N\n",
        "\n",
        "X = X.reshape(-1, bin_len*bin_num*num_features)\n",
        "y = y.reshape(-1, bin_len*bin_num)\n",
        "y = y[:,-1]\n",
        "print(X.shape, y.shape)"
      ],
      "execution_count": null,
      "outputs": [
        {
          "output_type": "stream",
          "text": [
            "(3900, 2730) (3900,)\n"
          ],
          "name": "stdout"
        }
      ]
    },
    {
      "cell_type": "markdown",
      "metadata": {
        "id": "tDb2MPF3wJ53",
        "colab_type": "text"
      },
      "source": [
        "## Random Forest"
      ]
    },
    {
      "cell_type": "code",
      "metadata": {
        "id": "5I48UI6CwMBQ",
        "colab_type": "code",
        "colab": {}
      },
      "source": [
        "n_estimators=\n",
        "max_features=\n",
        "max_depth=\n",
        "min_samples_split=\n",
        "min_samples_leaf="
      ],
      "execution_count": null,
      "outputs": []
    },
    {
      "cell_type": "code",
      "metadata": {
        "id": "wFCTn9OBLWEs",
        "colab_type": "code",
        "colab": {}
      },
      "source": [
        "def build_RF(X_train, y_train, X_test):\n",
        "  rnd_clf = RandomForestClassifier(n_estimators=500, max_leaf_nodes=16, n_jobs=-1)\n",
        "  rnd_clf.fit(X_train, y_train)\n",
        "  y_pred = rnd_clf.predict(X_test)\n",
        "\n",
        "  return y_pred"
      ],
      "execution_count": null,
      "outputs": []
    },
    {
      "cell_type": "code",
      "metadata": {
        "id": "t37AC737L37J",
        "colab_type": "code",
        "colab": {}
      },
      "source": [
        "def build_SVM(X_train, y_train, X_test): # use the SVC class with a linear kernel.\n",
        "  # scales the features \n",
        "  svm_clf = Pipeline([\n",
        "          (\"scaler\", StandardScaler()),\n",
        "          (\"linear_svc\", LinearSVC(C=1, loss=\"hinge\")),\n",
        "      ])\n",
        "  svm_clf.fit(X_train, y_train)\n",
        "  # Unlike Logistic Regression classifiers, SVM classifiers do not output probabilities for each class\n",
        "  y_pred = svm_clf.predict(X_test)\n",
        "\n",
        "  return y_pred"
      ],
      "execution_count": null,
      "outputs": []
    },
    {
      "cell_type": "code",
      "metadata": {
        "id": "r0IKPNHCKuES",
        "colab_type": "code",
        "colab": {
          "base_uri": "https://localhost:8080/",
          "height": 289
        },
        "outputId": "49f4f41b-82ed-48ef-b61e-36c4e0b8321a"
      },
      "source": [
        "# train using cross-validation\n",
        "num_val_samples = len(X) // k\n",
        "print(num_val_samples)\n",
        "\n",
        "all_scores = []\n",
        "\n",
        "for i in range(k):\n",
        "    print('processing fold #', i+1)\n",
        "    val_X = X[i * num_val_samples : (i + 1) * num_val_samples]\n",
        "    val_y = y[i * num_val_samples : (i + 1) * num_val_samples]\n",
        "\n",
        "    train_X = np.concatenate(                                     \n",
        "        [X[:i * num_val_samples],\n",
        "         X[(i + 1) * num_val_samples:]], axis=0)\n",
        "\n",
        "    train_y = np.concatenate(\n",
        "        [y[:i * num_val_samples],\n",
        "         y[(i + 1) * num_val_samples:]], axis=0)\n",
        "  \n",
        "    y_pred = build_SVM(train_X, train_y, val_X)\n",
        "    all_scores.append(accuracy_score(val_y, y_pred))\n",
        "\n",
        "print(all_scores)\n",
        "print(\"average accuracy: {} \".format(np.mean(all_scores)))"
      ],
      "execution_count": null,
      "outputs": [
        {
          "output_type": "stream",
          "text": [
            "5\n",
            "processing fold # 1\n",
            "processing fold # 2\n",
            "processing fold # 3\n",
            "processing fold # 4\n",
            "processing fold # 5\n",
            "processing fold # 6\n",
            "processing fold # 7\n",
            "processing fold # 8\n",
            "processing fold # 9\n",
            "processing fold # 10\n",
            "processing fold # 11\n",
            "processing fold # 12\n",
            "processing fold # 13\n",
            "[0.6, 0.8, 0.8, 0.8, 0.8, 0.8, 0.6, 0.6, 0.8, 0.8, 0.6, 1.0, 0.4]\n",
            "average accuracy: 0.7230769230769231 \n"
          ],
          "name": "stdout"
        }
      ]
    },
    {
      "cell_type": "markdown",
      "metadata": {
        "id": "4Cjto6TmKmuo",
        "colab_type": "text"
      },
      "source": [
        "## DNN"
      ]
    },
    {
      "cell_type": "code",
      "metadata": {
        "id": "2PWnBEmRAzXt",
        "colab_type": "code",
        "colab": {
          "base_uri": "https://localhost:8080/",
          "height": 323
        },
        "outputId": "6488f00b-6cda-4461-fd9e-a48e0f57f48f"
      },
      "source": [
        "def build_dnn(bin_len, bin_num, num_features):\n",
        "    model = keras.Sequential(\n",
        "  [\n",
        "   layers.Dense(40, input_shape=(bin_len*bin_num*num_features,)),\n",
        "   layers.Dropout(0.2),\n",
        "   layers.Dense(20, activation='relu'),\n",
        "   layers.Dropout(0.2),\n",
        "   layers.Dense(1, activation='sigmoid')\n",
        "  ])\n",
        "    opt = keras.optimizers.Adam(learning_rate=0.01) \n",
        "    model.compile(loss='binary_crossentropy', optimizer=opt, metrics=['accuracy'])\n",
        "    \n",
        "    return model\n",
        "\n",
        "model = build_dnn(bin_len, bin_num, num_features)\n",
        "model.summary()"
      ],
      "execution_count": null,
      "outputs": [
        {
          "output_type": "stream",
          "text": [
            "Model: \"sequential_43\"\n",
            "_________________________________________________________________\n",
            "Layer (type)                 Output Shape              Param #   \n",
            "=================================================================\n",
            "dense_101 (Dense)            (None, 40)                109240    \n",
            "_________________________________________________________________\n",
            "dropout_72 (Dropout)         (None, 40)                0         \n",
            "_________________________________________________________________\n",
            "dense_102 (Dense)            (None, 20)                820       \n",
            "_________________________________________________________________\n",
            "dropout_73 (Dropout)         (None, 20)                0         \n",
            "_________________________________________________________________\n",
            "dense_103 (Dense)            (None, 1)                 21        \n",
            "=================================================================\n",
            "Total params: 110,081\n",
            "Trainable params: 110,081\n",
            "Non-trainable params: 0\n",
            "_________________________________________________________________\n"
          ],
          "name": "stdout"
        }
      ]
    },
    {
      "cell_type": "markdown",
      "metadata": {
        "id": "WYSvKCvuEKF9",
        "colab_type": "text"
      },
      "source": [
        "## Recurrent Decoders: LSTM/GRU"
      ]
    },
    {
      "cell_type": "code",
      "metadata": {
        "id": "NQ-3RXi2cKrN",
        "colab_type": "code",
        "colab": {
          "base_uri": "https://localhost:8080/",
          "height": 34
        },
        "outputId": "42fa5595-524a-4506-ffef-9b3322711171"
      },
      "source": [
        "# Recurrent Neural Decoders: LSTM/GRU\n",
        "# 1. decide the temporal resolution, R\n",
        "# T/R total data points\n",
        "\n",
        "# 2. decide the time period to predict a given output (output data must be further preprocessed)\n",
        "# a. every timestep in a bin (no preprocessing y required)\n",
        "# b. last timestep in a bin\n",
        "# c. last timestep in multiple bins\n",
        "\n",
        "# X: (3000*# of videos, num_features) -> select bin_len -> (3000*# of videos/bin_len, bin_len, num_features) \n",
        "# -> select B_num -> (3000*# of videos/(bin_len*bin_num), bin_len*bin_num * num_features) \n",
        "\n",
        "# y: (3000*# of videos, 1) -> (3000*# of videos/(bin_len*bin_num), 600) -> leave the last output in aggregated B bins -> (3000*# of videos/(bin_len*bin_num), 1)\n",
        "\n",
        "bin_len = 200 # = temporal resolution R (window)\n",
        "bin_num = 3 # number of bins for a prediction B\n",
        "num_features = 273 # number of features N\n",
        "\n",
        "X = X.reshape(-1, bin_len*bin_num, num_features) \n",
        "y = y.reshape(-1, bin_len*bin_num, 1)\n",
        "print(X.shape, y.shape)"
      ],
      "execution_count": null,
      "outputs": [
        {
          "output_type": "stream",
          "text": [
            "(65, 600, 273) (65, 600, 1)\n"
          ],
          "name": "stdout"
        }
      ]
    },
    {
      "cell_type": "code",
      "metadata": {
        "id": "yYr2RjEqsWto",
        "colab_type": "code",
        "colab": {
          "base_uri": "https://localhost:8080/",
          "height": 255
        },
        "outputId": "2411d689-ea4c-4c6f-99b9-c95a17ad4f46"
      },
      "source": [
        "def build_lstm(bin_len, bin_num, num_features):\n",
        "    model = keras.Sequential(\n",
        "  [\n",
        "   layers.LSTM(units=100, input_shape=(bin_len*bin_num, num_features), return_sequences=True),\n",
        "   layers.Dropout(0.2),\n",
        "   layers.TimeDistributed(layers.Dense(1, activation='sigmoid'))\n",
        "  ])\n",
        "    opt = keras.optimizers.Adam(learning_rate=0.01) \n",
        "    model.compile(loss='binary_crossentropy', optimizer=opt, metrics=['accuracy'])\n",
        "    \n",
        "    return model\n",
        "\n",
        "model = build_lstm(bin_len, bin_num, num_features)\n",
        "model.summary()"
      ],
      "execution_count": null,
      "outputs": [
        {
          "output_type": "stream",
          "text": [
            "Model: \"sequential_58\"\n",
            "_________________________________________________________________\n",
            "Layer (type)                 Output Shape              Param #   \n",
            "=================================================================\n",
            "lstm_15 (LSTM)               (None, 600, 100)          149600    \n",
            "_________________________________________________________________\n",
            "dropout_101 (Dropout)        (None, 600, 100)          0         \n",
            "_________________________________________________________________\n",
            "time_distributed_15 (TimeDis (None, 600, 1)            101       \n",
            "=================================================================\n",
            "Total params: 149,701\n",
            "Trainable params: 149,701\n",
            "Non-trainable params: 0\n",
            "_________________________________________________________________\n"
          ],
          "name": "stdout"
        }
      ]
    },
    {
      "cell_type": "code",
      "metadata": {
        "id": "c7xz9naEOdy7",
        "colab_type": "code",
        "colab": {
          "base_uri": "https://localhost:8080/",
          "height": 1000
        },
        "outputId": "2c2b666a-0fdc-4511-bb69-b8219c7fc2ad"
      },
      "source": [
        "# train using cross-validation\n",
        "num_val_samples = len(X) // k\n",
        "print(num_val_samples)\n",
        "\n",
        "num_epochs = 5\n",
        "batch_size = 20 # of batches = (# of examples / batch_size)\n",
        "\n",
        "all_scores = []\n",
        "\n",
        "for i in range(k):\n",
        "    print('processing fold #', i+1)\n",
        "    val_X = X[i * num_val_samples : (i + 1) * num_val_samples]\n",
        "    val_y = y[i * num_val_samples : (i + 1) * num_val_samples]\n",
        "\n",
        "    train_X = np.concatenate(                                     \n",
        "        [X[:i * num_val_samples],\n",
        "         X[(i + 1) * num_val_samples:]], axis=0)\n",
        "\n",
        "    train_y = np.concatenate(\n",
        "        [y[:i * num_val_samples],\n",
        "         y[(i + 1) * num_val_samples:]], axis=0)\n",
        "  \n",
        "    model = build_lstm(bin_len, bin_num, num_features)                                 \n",
        "    history = model.fit(train_X, train_y, epochs=num_epochs, batch_size=batch_size, validation_data=(val_X, val_y), verbose=1)\n",
        "    val_loss, val_acc = model.evaluate(val_X, val_y, verbose=0)      \n",
        "    all_scores.append(val_acc)\n",
        "\n",
        "print(all_scores)\n",
        "print(\"average accuracy: {} \".format(np.mean(all_scores)))"
      ],
      "execution_count": null,
      "outputs": [
        {
          "output_type": "stream",
          "text": [
            "5\n",
            "processing fold # 1\n",
            "Epoch 1/5\n",
            "3/3 [==============================] - 1s 170ms/step - loss: 0.7273 - accuracy: 0.5873 - val_loss: 0.7603 - val_accuracy: 0.5577\n",
            "Epoch 2/5\n",
            "3/3 [==============================] - 0s 50ms/step - loss: 0.5701 - accuracy: 0.7089 - val_loss: 0.7448 - val_accuracy: 0.5480\n",
            "Epoch 3/5\n",
            "3/3 [==============================] - 0s 45ms/step - loss: 0.5103 - accuracy: 0.7562 - val_loss: 0.7505 - val_accuracy: 0.5337\n",
            "Epoch 4/5\n",
            "3/3 [==============================] - 0s 30ms/step - loss: 0.4710 - accuracy: 0.7842 - val_loss: 0.7580 - val_accuracy: 0.5470\n",
            "Epoch 5/5\n",
            "3/3 [==============================] - 0s 27ms/step - loss: 0.4242 - accuracy: 0.8154 - val_loss: 0.7966 - val_accuracy: 0.5387\n",
            "processing fold # 2\n",
            "Epoch 1/5\n",
            "3/3 [==============================] - 1s 169ms/step - loss: 0.7400 - accuracy: 0.5789 - val_loss: 0.6148 - val_accuracy: 0.6450\n",
            "Epoch 2/5\n",
            "3/3 [==============================] - 0s 42ms/step - loss: 0.5716 - accuracy: 0.7040 - val_loss: 0.6404 - val_accuracy: 0.5970\n",
            "Epoch 3/5\n",
            "3/3 [==============================] - 0s 34ms/step - loss: 0.5212 - accuracy: 0.7481 - val_loss: 0.6755 - val_accuracy: 0.5557\n",
            "Epoch 4/5\n",
            "3/3 [==============================] - 0s 31ms/step - loss: 0.4839 - accuracy: 0.7820 - val_loss: 0.6337 - val_accuracy: 0.6073\n",
            "Epoch 5/5\n",
            "3/3 [==============================] - 0s 28ms/step - loss: 0.4387 - accuracy: 0.8089 - val_loss: 0.6105 - val_accuracy: 0.6663\n",
            "processing fold # 3\n",
            "Epoch 1/5\n",
            "3/3 [==============================] - 0s 146ms/step - loss: 0.7224 - accuracy: 0.5903 - val_loss: 0.6916 - val_accuracy: 0.6493\n",
            "Epoch 2/5\n",
            "3/3 [==============================] - 0s 34ms/step - loss: 0.5737 - accuracy: 0.6921 - val_loss: 0.6164 - val_accuracy: 0.6690\n",
            "Epoch 3/5\n",
            "3/3 [==============================] - 0s 36ms/step - loss: 0.5182 - accuracy: 0.7491 - val_loss: 0.6057 - val_accuracy: 0.6727\n",
            "Epoch 4/5\n",
            "3/3 [==============================] - 0s 33ms/step - loss: 0.4700 - accuracy: 0.7876 - val_loss: 0.6349 - val_accuracy: 0.6680\n",
            "Epoch 5/5\n",
            "3/3 [==============================] - 0s 28ms/step - loss: 0.4180 - accuracy: 0.8196 - val_loss: 0.6255 - val_accuracy: 0.6733\n",
            "processing fold # 4\n",
            "Epoch 1/5\n",
            "3/3 [==============================] - 0s 150ms/step - loss: 0.7728 - accuracy: 0.5601 - val_loss: 0.5289 - val_accuracy: 0.6867\n",
            "Epoch 2/5\n",
            "3/3 [==============================] - 0s 42ms/step - loss: 0.5811 - accuracy: 0.6982 - val_loss: 0.5677 - val_accuracy: 0.7193\n",
            "Epoch 3/5\n",
            "3/3 [==============================] - 0s 35ms/step - loss: 0.5317 - accuracy: 0.7511 - val_loss: 0.5375 - val_accuracy: 0.7153\n",
            "Epoch 4/5\n",
            "3/3 [==============================] - 0s 30ms/step - loss: 0.4855 - accuracy: 0.7823 - val_loss: 0.5130 - val_accuracy: 0.7217\n",
            "Epoch 5/5\n",
            "3/3 [==============================] - 0s 25ms/step - loss: 0.4393 - accuracy: 0.8118 - val_loss: 0.5237 - val_accuracy: 0.7317\n",
            "processing fold # 5\n",
            "Epoch 1/5\n",
            "3/3 [==============================] - 1s 169ms/step - loss: 0.7852 - accuracy: 0.5628 - val_loss: 0.5332 - val_accuracy: 0.7327\n",
            "Epoch 2/5\n",
            "3/3 [==============================] - 0s 46ms/step - loss: 0.5954 - accuracy: 0.6926 - val_loss: 0.6139 - val_accuracy: 0.6747\n",
            "Epoch 3/5\n",
            "3/3 [==============================] - 0s 42ms/step - loss: 0.5409 - accuracy: 0.7448 - val_loss: 0.6222 - val_accuracy: 0.6407\n",
            "Epoch 4/5\n",
            "3/3 [==============================] - 0s 33ms/step - loss: 0.4996 - accuracy: 0.7682 - val_loss: 0.5741 - val_accuracy: 0.6907\n",
            "Epoch 5/5\n",
            "3/3 [==============================] - 0s 28ms/step - loss: 0.4595 - accuracy: 0.7961 - val_loss: 0.5738 - val_accuracy: 0.6843\n",
            "processing fold # 6\n",
            "Epoch 1/5\n",
            "3/3 [==============================] - 0s 147ms/step - loss: 0.7593 - accuracy: 0.5809 - val_loss: 0.6856 - val_accuracy: 0.5983\n",
            "Epoch 2/5\n",
            "3/3 [==============================] - 0s 37ms/step - loss: 0.5803 - accuracy: 0.6977 - val_loss: 0.7112 - val_accuracy: 0.5390\n",
            "Epoch 3/5\n",
            "3/3 [==============================] - 0s 37ms/step - loss: 0.5220 - accuracy: 0.7548 - val_loss: 0.6861 - val_accuracy: 0.6027\n",
            "Epoch 4/5\n",
            "3/3 [==============================] - 0s 30ms/step - loss: 0.4784 - accuracy: 0.7811 - val_loss: 0.6998 - val_accuracy: 0.5810\n",
            "Epoch 5/5\n",
            "3/3 [==============================] - 0s 29ms/step - loss: 0.4375 - accuracy: 0.8057 - val_loss: 0.7800 - val_accuracy: 0.5187\n",
            "processing fold # 7\n",
            "Epoch 1/5\n",
            "3/3 [==============================] - 0s 151ms/step - loss: 0.7538 - accuracy: 0.5794 - val_loss: 0.7686 - val_accuracy: 0.5737\n",
            "Epoch 2/5\n",
            "3/3 [==============================] - 0s 45ms/step - loss: 0.5722 - accuracy: 0.6868 - val_loss: 0.7065 - val_accuracy: 0.5783\n",
            "Epoch 3/5\n",
            "3/3 [==============================] - 0s 35ms/step - loss: 0.5202 - accuracy: 0.7517 - val_loss: 0.7099 - val_accuracy: 0.5940\n",
            "Epoch 4/5\n",
            "3/3 [==============================] - 0s 34ms/step - loss: 0.4785 - accuracy: 0.7792 - val_loss: 0.7240 - val_accuracy: 0.5957\n",
            "Epoch 5/5\n",
            "3/3 [==============================] - 0s 27ms/step - loss: 0.4311 - accuracy: 0.8134 - val_loss: 0.7436 - val_accuracy: 0.5867\n",
            "processing fold # 8\n",
            "Epoch 1/5\n",
            "3/3 [==============================] - 0s 148ms/step - loss: 0.7076 - accuracy: 0.5804 - val_loss: 0.7178 - val_accuracy: 0.5627\n",
            "Epoch 2/5\n",
            "3/3 [==============================] - 0s 37ms/step - loss: 0.5499 - accuracy: 0.7214 - val_loss: 0.7084 - val_accuracy: 0.5557\n",
            "Epoch 3/5\n",
            "3/3 [==============================] - 0s 38ms/step - loss: 0.4942 - accuracy: 0.7633 - val_loss: 0.7557 - val_accuracy: 0.5513\n",
            "Epoch 4/5\n",
            "3/3 [==============================] - 0s 29ms/step - loss: 0.4498 - accuracy: 0.7987 - val_loss: 0.7818 - val_accuracy: 0.5607\n",
            "Epoch 5/5\n",
            "3/3 [==============================] - 0s 29ms/step - loss: 0.3981 - accuracy: 0.8270 - val_loss: 0.8017 - val_accuracy: 0.5750\n",
            "processing fold # 9\n",
            "Epoch 1/5\n",
            "3/3 [==============================] - 1s 172ms/step - loss: 0.7518 - accuracy: 0.5965 - val_loss: 0.6827 - val_accuracy: 0.5937\n",
            "Epoch 2/5\n",
            "3/3 [==============================] - 0s 44ms/step - loss: 0.5975 - accuracy: 0.6664 - val_loss: 0.6540 - val_accuracy: 0.6157\n",
            "Epoch 3/5\n",
            "3/3 [==============================] - 0s 42ms/step - loss: 0.5440 - accuracy: 0.7317 - val_loss: 0.6633 - val_accuracy: 0.6007\n",
            "Epoch 4/5\n",
            "3/3 [==============================] - 0s 32ms/step - loss: 0.5102 - accuracy: 0.7523 - val_loss: 0.6874 - val_accuracy: 0.5957\n",
            "Epoch 5/5\n",
            "3/3 [==============================] - 0s 27ms/step - loss: 0.4679 - accuracy: 0.7898 - val_loss: 0.6796 - val_accuracy: 0.6153\n",
            "processing fold # 10\n",
            "Epoch 1/5\n",
            "3/3 [==============================] - 0s 157ms/step - loss: 0.7272 - accuracy: 0.5688 - val_loss: 0.6747 - val_accuracy: 0.6427\n",
            "Epoch 2/5\n",
            "3/3 [==============================] - 0s 37ms/step - loss: 0.5650 - accuracy: 0.7103 - val_loss: 0.6277 - val_accuracy: 0.6390\n",
            "Epoch 3/5\n",
            "3/3 [==============================] - 0s 36ms/step - loss: 0.5114 - accuracy: 0.7636 - val_loss: 0.6291 - val_accuracy: 0.6450\n",
            "Epoch 4/5\n",
            "3/3 [==============================] - 0s 29ms/step - loss: 0.4554 - accuracy: 0.7961 - val_loss: 0.6495 - val_accuracy: 0.6397\n",
            "Epoch 5/5\n",
            "3/3 [==============================] - 0s 27ms/step - loss: 0.4054 - accuracy: 0.8259 - val_loss: 0.6603 - val_accuracy: 0.6317\n",
            "processing fold # 11\n",
            "Epoch 1/5\n",
            "3/3 [==============================] - 0s 146ms/step - loss: 0.6878 - accuracy: 0.5892 - val_loss: 0.6394 - val_accuracy: 0.6523\n",
            "Epoch 2/5\n",
            "3/3 [==============================] - 0s 40ms/step - loss: 0.5390 - accuracy: 0.7324 - val_loss: 0.5940 - val_accuracy: 0.6833\n",
            "Epoch 3/5\n",
            "3/3 [==============================] - 0s 33ms/step - loss: 0.4860 - accuracy: 0.7650 - val_loss: 0.6030 - val_accuracy: 0.6743\n",
            "Epoch 4/5\n",
            "3/3 [==============================] - 0s 34ms/step - loss: 0.4299 - accuracy: 0.8082 - val_loss: 0.5987 - val_accuracy: 0.6893\n",
            "Epoch 5/5\n",
            "3/3 [==============================] - 0s 28ms/step - loss: 0.3722 - accuracy: 0.8429 - val_loss: 0.6097 - val_accuracy: 0.6867\n",
            "processing fold # 12\n",
            "Epoch 1/5\n",
            "3/3 [==============================] - 0s 147ms/step - loss: 0.7581 - accuracy: 0.5576 - val_loss: 0.5092 - val_accuracy: 0.7603\n",
            "Epoch 2/5\n",
            "3/3 [==============================] - 0s 37ms/step - loss: 0.6123 - accuracy: 0.6643 - val_loss: 0.5790 - val_accuracy: 0.7347\n",
            "Epoch 3/5\n",
            "3/3 [==============================] - 0s 36ms/step - loss: 0.5514 - accuracy: 0.7278 - val_loss: 0.5061 - val_accuracy: 0.7760\n",
            "Epoch 4/5\n",
            "3/3 [==============================] - 0s 29ms/step - loss: 0.5169 - accuracy: 0.7565 - val_loss: 0.4696 - val_accuracy: 0.7890\n",
            "Epoch 5/5\n",
            "3/3 [==============================] - 0s 26ms/step - loss: 0.4740 - accuracy: 0.7854 - val_loss: 0.4826 - val_accuracy: 0.7897\n",
            "processing fold # 13\n",
            "Epoch 1/5\n",
            "3/3 [==============================] - 1s 171ms/step - loss: 0.7726 - accuracy: 0.5772 - val_loss: 0.7062 - val_accuracy: 0.5963\n",
            "Epoch 2/5\n",
            "3/3 [==============================] - 0s 50ms/step - loss: 0.5820 - accuracy: 0.7014 - val_loss: 0.6538 - val_accuracy: 0.6167\n",
            "Epoch 3/5\n",
            "3/3 [==============================] - 0s 45ms/step - loss: 0.5194 - accuracy: 0.7529 - val_loss: 0.6382 - val_accuracy: 0.6163\n",
            "Epoch 4/5\n",
            "3/3 [==============================] - 0s 33ms/step - loss: 0.4838 - accuracy: 0.7790 - val_loss: 0.6437 - val_accuracy: 0.6120\n",
            "Epoch 5/5\n",
            "3/3 [==============================] - 0s 30ms/step - loss: 0.4380 - accuracy: 0.8124 - val_loss: 0.6553 - val_accuracy: 0.6193\n",
            "[0.5386666655540466, 0.6663333177566528, 0.6733333468437195, 0.7316666841506958, 0.684333324432373, 0.518666684627533, 0.5866666436195374, 0.574999988079071, 0.6153333187103271, 0.6316666603088379, 0.6866666674613953, 0.7896666526794434, 0.6193333268165588]\n",
            "average accuracy: 0.6397948677723224 \n"
          ],
          "name": "stdout"
        }
      ]
    },
    {
      "cell_type": "markdown",
      "metadata": {
        "id": "5x5RY-YSIHiT",
        "colab_type": "text"
      },
      "source": [
        "### Visualize Train/Val Loss/Acc"
      ]
    },
    {
      "cell_type": "code",
      "metadata": {
        "id": "DA6y3v52Vtib",
        "colab_type": "code",
        "colab": {
          "base_uri": "https://localhost:8080/",
          "height": 545
        },
        "outputId": "b4a06c2c-8512-4e4d-f330-05bc9ae05977"
      },
      "source": [
        "import matplotlib.pyplot as plt\n",
        "\n",
        "acc = history.history['accuracy']\n",
        "loss = history.history['loss']\n",
        "val_loss = history.history['val_loss']\n",
        "val_acc = history.history['val_accuracy']\n",
        "\n",
        "epochs = range(1, len(acc) + 1)\n",
        "\n",
        "plt.plot(epochs, acc, 'bo', label='Training acc')\n",
        "plt.plot(epochs, val_acc, 'b', label='Validation acc')\n",
        "plt.title('Training and validation accuracy')\n",
        "plt.legend()\n",
        "\n",
        "plt.figure()\n",
        "\n",
        "plt.plot(epochs, loss, 'bo', label='Training loss')\n",
        "plt.plot(epochs, val_loss, 'b', label='Validation loss')\n",
        "plt.title('Training and validation loss')\n",
        "plt.legend()\n",
        "\n",
        "plt.show()"
      ],
      "execution_count": null,
      "outputs": [
        {
          "output_type": "display_data",
          "data": {
            "image/png": "[encoded data removed]",
            "text/plain": [
              "<Figure size 432x288 with 1 Axes>"
            ]
          },
          "metadata": {
            "tags": [],
            "needs_background": "light"
          }
        },
        {
          "output_type": "display_data",
          "data": {
            "image/png": "[encoded data removed]",
            "text/plain": [
              "<Figure size 432x288 with 1 Axes>"
            ]
          },
          "metadata": {
            "tags": [],
            "needs_background": "light"
          }
        }
      ]
    },
    {
      "cell_type": "markdown",
      "metadata": {
        "id": "rbxoayK47eID",
        "colab_type": "text"
      },
      "source": [
        "## Decision Trees"
      ]
    },
    {
      "cell_type": "code",
      "metadata": {
        "id": "ExjvLpH1IXBz",
        "colab_type": "code",
        "colab": {}
      },
      "source": [
        "from sklearn.ensemble import RandomForestClassifier\n",
        "from sklearn.ensemble import VotingClassifier\n",
        "from sklearn.linear_model import LogisticRegression\n",
        "from sklearn.svm import SVC\n",
        "\n",
        "log_clf = LogisticRegression()\n",
        "rnd_clf = RandomForestClassifier()\n",
        "svm_clf = SVC()\n",
        "\n",
        "voting_clf = VotingClassifier(\n",
        "    estimators=[('lr', log_clf), ('rf', rnd_clf), ('svc', svm_clf)],\n",
        "    voting='hard')\n",
        "voting_clf.fit(X_train, y_train)"
      ],
      "execution_count": null,
      "outputs": []
    },
    {
      "cell_type": "code",
      "metadata": {
        "id": "Ii-PCTv0I4D7",
        "colab_type": "code",
        "colab": {}
      },
      "source": [
        "for clf in (log_clf, rnd_clf, svm_clf, voting_clf):\n",
        "clf.fit(X_train, y_train)\n",
        "y_pred = clf.predict(X_test)\n",
        "print(clf.__class__.__name__, accuracy_score(y_test, y_pred))"
      ],
      "execution_count": null,
      "outputs": []
    },
    {
      "cell_type": "markdown",
      "metadata": {
        "id": "HRtOnc1uuMWr",
        "colab_type": "text"
      },
      "source": [
        "## Support Vector Machines\n"
      ]
    },
    {
      "cell_type": "markdown",
      "metadata": {
        "id": "zjhkvUvR8RZG",
        "colab_type": "text"
      },
      "source": [
        "### Linear SVM Classification\n",
        "If two classes can clearly be linearly separated easily with a straight line (decision boundary), we start with using LinearSVM.\n",
        "\n",
        "However, if the decision boundaries come so close to the instances, then these models will probably not perform well on new instances.\n",
        "\n",
        "Therefore, we aim to not only separate the two classes but also stays as far away from the closest training instances as possible (think SVM of fitting the widest possible street between the classification : large margin classification)\n",
        "\n",
        "decision boundary is full determined by the instances located on the edge of the street and such instances are called **\"SUPPORT VECTORS\"**\n",
        "```\n",
        "- SVMs are sensitive to the feature scales, be sure to use StandardScaler for feature scaling\n",
        "- If your SVM model is overfitting, try regularizing it by reducing C\n",
        "```\n",
        "\n",
        "### Soft vs. Hard margin classification\n",
        "all instance must be off the street and on the right side, this is called hard margin. There are two main issues with it that it only works when the data is linearly separable and sensitive to outliars.\n",
        "\n",
        "To avoid these issues, use a more flexible model called soft margin. The objective is to find a good balance between maximizing the margin and limiting the margin violations.\n",
        "\n"
      ]
    },
    {
      "cell_type": "markdown",
      "metadata": {
        "id": "Mwqpj-qb6rV1",
        "colab_type": "text"
      },
      "source": [
        "Instead of using the LinearSVC class, we could use the SVC class with a linear kernel. When creating the SVC model, we would write SVC(kernel=\"linear\", C=1).\n",
        "\n",
        "```\n",
        "The LinearSVC class regularizes the bias term, so you should center the training set first by subtracting its mean. This is automatic if you scale the data using the StandardScaler. Also make sure you set the loss hyperparameter to \"hinge\", as it is not the default value. Finally, for better performance, you should set the dual hyperparameter to False, unless there are more features than training instances.\n",
        "```\n"
      ]
    },
    {
      "cell_type": "markdown",
      "metadata": {
        "id": "3l5fyXtr51fM",
        "colab_type": "text"
      },
      "source": [
        "## Nonlinear SVM Classification\n",
        "\n",
        "many datasets are not even close to being linearly separable.\n",
        "\n",
        "One approach is to add more features (polynomial features) and in somes cases it results in linearly separable dataset.\n",
        "\n",
        "Although it is simple to implement, it poses issues that at a low degree it cannot deal with complex dataset and with a high degree it creates a huge number of features, making the training too slow."
      ]
    },
    {
      "cell_type": "markdown",
      "metadata": {
        "id": "EMlMawmIFuFN",
        "colab_type": "text"
      },
      "source": [
        "### kernel trick\n",
        "makes it possible to get the same results as if you had added many polynomial features, even with very high-degree polynomials, without actually having to add them."
      ]
    },
    {
      "cell_type": "code",
      "metadata": {
        "id": "8hR5Qdejw9MS",
        "colab_type": "code",
        "colab": {}
      },
      "source": [
        "# Polynomial Kernel\n",
        "from sklearn.svm import SVC\n",
        "from sklearn.pipeline import Pipeline\n",
        "from sklearn.preprocessing import StandardScaler\n",
        "\n",
        "poly_kernel_svm_clf = Pipeline([\n",
        "        (\"scaler\", StandardScaler()),\n",
        "        (\"svm_clf\", SVC(kernel=\"poly\", degree=3, coef0=1, C=5))\n",
        "    ])\n",
        "\n",
        "poly_kernel_svm_clf.fit(X_train, y_train)\n",
        "y_pred = poly_kernel_svm_predict(X_test)\n",
        "print(accuracy_score(y_test, y_pred))"
      ],
      "execution_count": null,
      "outputs": []
    },
    {
      "cell_type": "markdown",
      "metadata": {
        "id": "R0oFvWOE4_Th",
        "colab_type": "text"
      },
      "source": [
        "**With so many kernels to choose from, how can you decide which one to use?**\n",
        "```\n",
        "As a rule of thumb, you should always try the linear kernel first (remember that LinearSVC is much faster than SVC(kernel=\"linear\")), especially if the training set is very large or if it has plenty of features. If the training set is not too large, you should also try the Gaussian RBF kernel; it works well in most cases. Use cross-validation and grid search for searching a few other kernels. You’d want to experiment like that especially if there are kernels specialized for your training set’s data structure.\n",
        "```\n"
      ]
    },
    {
      "cell_type": "markdown",
      "metadata": {
        "id": "57koRIML7lhY",
        "colab_type": "text"
      },
      "source": [
        "For online learning, we could use the SGDClassifier class, with SGDClassifier(loss=\"hinge\", alpha=1/(m*C)). This applies regular Stochastic Gradient Descent to train a linear SVM classifier. It does not converge as fast as the LinearSVC class, but it can be useful to handle online classification tasks or huge datasets that do not fit in memory (out-of-core training)."
      ]
    },
    {
      "cell_type": "markdown",
      "metadata": {
        "id": "XAonYsGg0sLj",
        "colab_type": "text"
      },
      "source": [
        "### Under the Hood\n",
        "The linear SVM classifier model predicts the class of a new instance x by simply computing the decision function w⊺ x + b = w1 x1 + ⋯ + wn xn + b. If the result is positive, the predicted class ŷ is the positive class (1), and otherwise it is the negative class (0)\n",
        "\n",
        "\n",
        "Consider the slope of the decision function: it is equal to the norm of the weight vector, ∥ w ∥. If we divide this slope by 2, the points where the decision function is equal to ±1 are going to be twice as far away from the decision boundary. \n",
        "\n",
        "```\n",
        "dividing the slope by 2 will multiply the margin by 2. The smaller the weight vector w, the larger the margin.\n",
        "```\n",
        "\n",
        "Training a linear SVM classifier means finding the values of w and b that make this margin as wide as possible while avoiding margin violations (hard margin) or limiting them (soft margin)."
      ]
    }
  ]
}